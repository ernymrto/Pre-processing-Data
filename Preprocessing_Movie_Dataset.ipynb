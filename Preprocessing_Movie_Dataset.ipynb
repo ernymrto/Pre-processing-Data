{
  "nbformat": 4,
  "nbformat_minor": 0,
  "metadata": {
    "colab": {
      "provenance": []
    },
    "kernelspec": {
      "name": "python3",
      "display_name": "Python 3"
    },
    "language_info": {
      "name": "python"
    }
  },
  "cells": [
    {
      "cell_type": "markdown",
      "source": [
        "Impor Pustaka (Library)"
      ],
      "metadata": {
        "id": "ch08YGvubuaz"
      }
    },
    {
      "cell_type": "code",
      "execution_count": 1,
      "metadata": {
        "id": "08dqSlxfclxC"
      },
      "outputs": [],
      "source": [
        "import pandas as pd\n",
        "import numpy as np"
      ]
    },
    {
      "cell_type": "markdown",
      "source": [
        "1. Memuat Data\n",
        "\n",
        "Menggunakan fungsi read_csv dari pandas untuk membaca data dari sebuah file bernama movie_sample_dataset.csv. Hasilnya adalah sebuah DataFrame yang disimpan ke dalam variabel bernama df."
      ],
      "metadata": {
        "id": "wvz0guiyZmUj"
      }
    },
    {
      "cell_type": "code",
      "source": [
        "df = pd.read_csv('movie_sample_dataset.csv')\n",
        "df.head()"
      ],
      "metadata": {
        "colab": {
          "base_uri": "https://localhost:8080/",
          "height": 486
        },
        "id": "5gjuHO9Hc1M9",
        "outputId": "d9e8e080-8090-48aa-846b-750882c09828"
      },
      "execution_count": 2,
      "outputs": [
        {
          "output_type": "execute_result",
          "data": {
            "text/plain": [
              "    color      director_name  duration        gross  \\\n",
              "0   Color    Martin Scorsese       240  116866727.0   \n",
              "1   Color        Shane Black       195  408992272.0   \n",
              "2  color   Quentin Tarantino       187   54116191.0   \n",
              "3   Color   Kenneth Lonergan       186      46495.0   \n",
              "4   Color      Peter Jackson       186  258355354.0   \n",
              "\n",
              "                                 genres                          movie_title  \\\n",
              "0          Biography|Comedy|Crime|Drama              The Wolf of Wall Street   \n",
              "1               Action|Adventure|Sci-Fi                           Iron Man 3   \n",
              "2  Crime|Drama|Mystery|Thriller|Western                    The Hateful Eight   \n",
              "3                                 Drama                             Margaret   \n",
              "4                     Adventure|Fantasy  The Hobbit: The Desolation of Smaug   \n",
              "\n",
              "   title_year language country       budget  imdb_score  \\\n",
              "0        2013  English     USA  100000000.0         8.2   \n",
              "1        2013  English     USA  200000000.0         7.2   \n",
              "2        2015  English     USA   44000000.0         7.9   \n",
              "3        2011  English     usa   14000000.0         6.5   \n",
              "4        2013  English     USA  225000000.0         7.9   \n",
              "\n",
              "                                              actors  movie_facebook_likes  \n",
              "0  Leonardo DiCaprio,Matthew McConaughey,Jon Favreau                138000  \n",
              "1          Robert Downey Jr.,Jon Favreau,Don Cheadle                 95000  \n",
              "2          Craig Stark,Jennifer Jason Leigh,Zoë Bell                114000  \n",
              "3        Matt Damon,Kieran Culkin,John Gallagher Jr.                     0  \n",
              "4              Aidan Turner,Adam Brown,James Nesbitt                 83000  "
            ],
            "text/html": [
              "\n",
              "  <div id=\"df-0bb21afc-c22e-4230-9b8b-9034a0830e34\" class=\"colab-df-container\">\n",
              "    <div>\n",
              "<style scoped>\n",
              "    .dataframe tbody tr th:only-of-type {\n",
              "        vertical-align: middle;\n",
              "    }\n",
              "\n",
              "    .dataframe tbody tr th {\n",
              "        vertical-align: top;\n",
              "    }\n",
              "\n",
              "    .dataframe thead th {\n",
              "        text-align: right;\n",
              "    }\n",
              "</style>\n",
              "<table border=\"1\" class=\"dataframe\">\n",
              "  <thead>\n",
              "    <tr style=\"text-align: right;\">\n",
              "      <th></th>\n",
              "      <th>color</th>\n",
              "      <th>director_name</th>\n",
              "      <th>duration</th>\n",
              "      <th>gross</th>\n",
              "      <th>genres</th>\n",
              "      <th>movie_title</th>\n",
              "      <th>title_year</th>\n",
              "      <th>language</th>\n",
              "      <th>country</th>\n",
              "      <th>budget</th>\n",
              "      <th>imdb_score</th>\n",
              "      <th>actors</th>\n",
              "      <th>movie_facebook_likes</th>\n",
              "    </tr>\n",
              "  </thead>\n",
              "  <tbody>\n",
              "    <tr>\n",
              "      <th>0</th>\n",
              "      <td>Color</td>\n",
              "      <td>Martin Scorsese</td>\n",
              "      <td>240</td>\n",
              "      <td>116866727.0</td>\n",
              "      <td>Biography|Comedy|Crime|Drama</td>\n",
              "      <td>The Wolf of Wall Street</td>\n",
              "      <td>2013</td>\n",
              "      <td>English</td>\n",
              "      <td>USA</td>\n",
              "      <td>100000000.0</td>\n",
              "      <td>8.2</td>\n",
              "      <td>Leonardo DiCaprio,Matthew McConaughey,Jon Favreau</td>\n",
              "      <td>138000</td>\n",
              "    </tr>\n",
              "    <tr>\n",
              "      <th>1</th>\n",
              "      <td>Color</td>\n",
              "      <td>Shane Black</td>\n",
              "      <td>195</td>\n",
              "      <td>408992272.0</td>\n",
              "      <td>Action|Adventure|Sci-Fi</td>\n",
              "      <td>Iron Man 3</td>\n",
              "      <td>2013</td>\n",
              "      <td>English</td>\n",
              "      <td>USA</td>\n",
              "      <td>200000000.0</td>\n",
              "      <td>7.2</td>\n",
              "      <td>Robert Downey Jr.,Jon Favreau,Don Cheadle</td>\n",
              "      <td>95000</td>\n",
              "    </tr>\n",
              "    <tr>\n",
              "      <th>2</th>\n",
              "      <td>color</td>\n",
              "      <td>Quentin Tarantino</td>\n",
              "      <td>187</td>\n",
              "      <td>54116191.0</td>\n",
              "      <td>Crime|Drama|Mystery|Thriller|Western</td>\n",
              "      <td>The Hateful Eight</td>\n",
              "      <td>2015</td>\n",
              "      <td>English</td>\n",
              "      <td>USA</td>\n",
              "      <td>44000000.0</td>\n",
              "      <td>7.9</td>\n",
              "      <td>Craig Stark,Jennifer Jason Leigh,Zoë Bell</td>\n",
              "      <td>114000</td>\n",
              "    </tr>\n",
              "    <tr>\n",
              "      <th>3</th>\n",
              "      <td>Color</td>\n",
              "      <td>Kenneth Lonergan</td>\n",
              "      <td>186</td>\n",
              "      <td>46495.0</td>\n",
              "      <td>Drama</td>\n",
              "      <td>Margaret</td>\n",
              "      <td>2011</td>\n",
              "      <td>English</td>\n",
              "      <td>usa</td>\n",
              "      <td>14000000.0</td>\n",
              "      <td>6.5</td>\n",
              "      <td>Matt Damon,Kieran Culkin,John Gallagher Jr.</td>\n",
              "      <td>0</td>\n",
              "    </tr>\n",
              "    <tr>\n",
              "      <th>4</th>\n",
              "      <td>Color</td>\n",
              "      <td>Peter Jackson</td>\n",
              "      <td>186</td>\n",
              "      <td>258355354.0</td>\n",
              "      <td>Adventure|Fantasy</td>\n",
              "      <td>The Hobbit: The Desolation of Smaug</td>\n",
              "      <td>2013</td>\n",
              "      <td>English</td>\n",
              "      <td>USA</td>\n",
              "      <td>225000000.0</td>\n",
              "      <td>7.9</td>\n",
              "      <td>Aidan Turner,Adam Brown,James Nesbitt</td>\n",
              "      <td>83000</td>\n",
              "    </tr>\n",
              "  </tbody>\n",
              "</table>\n",
              "</div>\n",
              "    <div class=\"colab-df-buttons\">\n",
              "\n",
              "  <div class=\"colab-df-container\">\n",
              "    <button class=\"colab-df-convert\" onclick=\"convertToInteractive('df-0bb21afc-c22e-4230-9b8b-9034a0830e34')\"\n",
              "            title=\"Convert this dataframe to an interactive table.\"\n",
              "            style=\"display:none;\">\n",
              "\n",
              "  <svg xmlns=\"http://www.w3.org/2000/svg\" height=\"24px\" viewBox=\"0 -960 960 960\">\n",
              "    <path d=\"M120-120v-720h720v720H120Zm60-500h600v-160H180v160Zm220 220h160v-160H400v160Zm0 220h160v-160H400v160ZM180-400h160v-160H180v160Zm440 0h160v-160H620v160ZM180-180h160v-160H180v160Zm440 0h160v-160H620v160Z\"/>\n",
              "  </svg>\n",
              "    </button>\n",
              "\n",
              "  <style>\n",
              "    .colab-df-container {\n",
              "      display:flex;\n",
              "      gap: 12px;\n",
              "    }\n",
              "\n",
              "    .colab-df-convert {\n",
              "      background-color: #E8F0FE;\n",
              "      border: none;\n",
              "      border-radius: 50%;\n",
              "      cursor: pointer;\n",
              "      display: none;\n",
              "      fill: #1967D2;\n",
              "      height: 32px;\n",
              "      padding: 0 0 0 0;\n",
              "      width: 32px;\n",
              "    }\n",
              "\n",
              "    .colab-df-convert:hover {\n",
              "      background-color: #E2EBFA;\n",
              "      box-shadow: 0px 1px 2px rgba(60, 64, 67, 0.3), 0px 1px 3px 1px rgba(60, 64, 67, 0.15);\n",
              "      fill: #174EA6;\n",
              "    }\n",
              "\n",
              "    .colab-df-buttons div {\n",
              "      margin-bottom: 4px;\n",
              "    }\n",
              "\n",
              "    [theme=dark] .colab-df-convert {\n",
              "      background-color: #3B4455;\n",
              "      fill: #D2E3FC;\n",
              "    }\n",
              "\n",
              "    [theme=dark] .colab-df-convert:hover {\n",
              "      background-color: #434B5C;\n",
              "      box-shadow: 0px 1px 3px 1px rgba(0, 0, 0, 0.15);\n",
              "      filter: drop-shadow(0px 1px 2px rgba(0, 0, 0, 0.3));\n",
              "      fill: #FFFFFF;\n",
              "    }\n",
              "  </style>\n",
              "\n",
              "    <script>\n",
              "      const buttonEl =\n",
              "        document.querySelector('#df-0bb21afc-c22e-4230-9b8b-9034a0830e34 button.colab-df-convert');\n",
              "      buttonEl.style.display =\n",
              "        google.colab.kernel.accessAllowed ? 'block' : 'none';\n",
              "\n",
              "      async function convertToInteractive(key) {\n",
              "        const element = document.querySelector('#df-0bb21afc-c22e-4230-9b8b-9034a0830e34');\n",
              "        const dataTable =\n",
              "          await google.colab.kernel.invokeFunction('convertToInteractive',\n",
              "                                                    [key], {});\n",
              "        if (!dataTable) return;\n",
              "\n",
              "        const docLinkHtml = 'Like what you see? Visit the ' +\n",
              "          '<a target=\"_blank\" href=https://colab.research.google.com/notebooks/data_table.ipynb>data table notebook</a>'\n",
              "          + ' to learn more about interactive tables.';\n",
              "        element.innerHTML = '';\n",
              "        dataTable['output_type'] = 'display_data';\n",
              "        await google.colab.output.renderOutput(dataTable, element);\n",
              "        const docLink = document.createElement('div');\n",
              "        docLink.innerHTML = docLinkHtml;\n",
              "        element.appendChild(docLink);\n",
              "      }\n",
              "    </script>\n",
              "  </div>\n",
              "\n",
              "\n",
              "    <div id=\"df-ddbf2ab0-760e-451f-8d13-39340dd90ee9\">\n",
              "      <button class=\"colab-df-quickchart\" onclick=\"quickchart('df-ddbf2ab0-760e-451f-8d13-39340dd90ee9')\"\n",
              "                title=\"Suggest charts\"\n",
              "                style=\"display:none;\">\n",
              "\n",
              "<svg xmlns=\"http://www.w3.org/2000/svg\" height=\"24px\"viewBox=\"0 0 24 24\"\n",
              "     width=\"24px\">\n",
              "    <g>\n",
              "        <path d=\"M19 3H5c-1.1 0-2 .9-2 2v14c0 1.1.9 2 2 2h14c1.1 0 2-.9 2-2V5c0-1.1-.9-2-2-2zM9 17H7v-7h2v7zm4 0h-2V7h2v10zm4 0h-2v-4h2v4z\"/>\n",
              "    </g>\n",
              "</svg>\n",
              "      </button>\n",
              "\n",
              "<style>\n",
              "  .colab-df-quickchart {\n",
              "      --bg-color: #E8F0FE;\n",
              "      --fill-color: #1967D2;\n",
              "      --hover-bg-color: #E2EBFA;\n",
              "      --hover-fill-color: #174EA6;\n",
              "      --disabled-fill-color: #AAA;\n",
              "      --disabled-bg-color: #DDD;\n",
              "  }\n",
              "\n",
              "  [theme=dark] .colab-df-quickchart {\n",
              "      --bg-color: #3B4455;\n",
              "      --fill-color: #D2E3FC;\n",
              "      --hover-bg-color: #434B5C;\n",
              "      --hover-fill-color: #FFFFFF;\n",
              "      --disabled-bg-color: #3B4455;\n",
              "      --disabled-fill-color: #666;\n",
              "  }\n",
              "\n",
              "  .colab-df-quickchart {\n",
              "    background-color: var(--bg-color);\n",
              "    border: none;\n",
              "    border-radius: 50%;\n",
              "    cursor: pointer;\n",
              "    display: none;\n",
              "    fill: var(--fill-color);\n",
              "    height: 32px;\n",
              "    padding: 0;\n",
              "    width: 32px;\n",
              "  }\n",
              "\n",
              "  .colab-df-quickchart:hover {\n",
              "    background-color: var(--hover-bg-color);\n",
              "    box-shadow: 0 1px 2px rgba(60, 64, 67, 0.3), 0 1px 3px 1px rgba(60, 64, 67, 0.15);\n",
              "    fill: var(--button-hover-fill-color);\n",
              "  }\n",
              "\n",
              "  .colab-df-quickchart-complete:disabled,\n",
              "  .colab-df-quickchart-complete:disabled:hover {\n",
              "    background-color: var(--disabled-bg-color);\n",
              "    fill: var(--disabled-fill-color);\n",
              "    box-shadow: none;\n",
              "  }\n",
              "\n",
              "  .colab-df-spinner {\n",
              "    border: 2px solid var(--fill-color);\n",
              "    border-color: transparent;\n",
              "    border-bottom-color: var(--fill-color);\n",
              "    animation:\n",
              "      spin 1s steps(1) infinite;\n",
              "  }\n",
              "\n",
              "  @keyframes spin {\n",
              "    0% {\n",
              "      border-color: transparent;\n",
              "      border-bottom-color: var(--fill-color);\n",
              "      border-left-color: var(--fill-color);\n",
              "    }\n",
              "    20% {\n",
              "      border-color: transparent;\n",
              "      border-left-color: var(--fill-color);\n",
              "      border-top-color: var(--fill-color);\n",
              "    }\n",
              "    30% {\n",
              "      border-color: transparent;\n",
              "      border-left-color: var(--fill-color);\n",
              "      border-top-color: var(--fill-color);\n",
              "      border-right-color: var(--fill-color);\n",
              "    }\n",
              "    40% {\n",
              "      border-color: transparent;\n",
              "      border-right-color: var(--fill-color);\n",
              "      border-top-color: var(--fill-color);\n",
              "    }\n",
              "    60% {\n",
              "      border-color: transparent;\n",
              "      border-right-color: var(--fill-color);\n",
              "    }\n",
              "    80% {\n",
              "      border-color: transparent;\n",
              "      border-right-color: var(--fill-color);\n",
              "      border-bottom-color: var(--fill-color);\n",
              "    }\n",
              "    90% {\n",
              "      border-color: transparent;\n",
              "      border-bottom-color: var(--fill-color);\n",
              "    }\n",
              "  }\n",
              "</style>\n",
              "\n",
              "      <script>\n",
              "        async function quickchart(key) {\n",
              "          const quickchartButtonEl =\n",
              "            document.querySelector('#' + key + ' button');\n",
              "          quickchartButtonEl.disabled = true;  // To prevent multiple clicks.\n",
              "          quickchartButtonEl.classList.add('colab-df-spinner');\n",
              "          try {\n",
              "            const charts = await google.colab.kernel.invokeFunction(\n",
              "                'suggestCharts', [key], {});\n",
              "          } catch (error) {\n",
              "            console.error('Error during call to suggestCharts:', error);\n",
              "          }\n",
              "          quickchartButtonEl.classList.remove('colab-df-spinner');\n",
              "          quickchartButtonEl.classList.add('colab-df-quickchart-complete');\n",
              "        }\n",
              "        (() => {\n",
              "          let quickchartButtonEl =\n",
              "            document.querySelector('#df-ddbf2ab0-760e-451f-8d13-39340dd90ee9 button');\n",
              "          quickchartButtonEl.style.display =\n",
              "            google.colab.kernel.accessAllowed ? 'block' : 'none';\n",
              "        })();\n",
              "      </script>\n",
              "    </div>\n",
              "\n",
              "    </div>\n",
              "  </div>\n"
            ],
            "application/vnd.google.colaboratory.intrinsic+json": {
              "type": "dataframe",
              "variable_name": "df",
              "summary": "{\n  \"name\": \"df\",\n  \"rows\": 99,\n  \"fields\": [\n    {\n      \"column\": \"color\",\n      \"properties\": {\n        \"dtype\": \"category\",\n        \"num_unique_values\": 3,\n        \"samples\": [\n          \"Color\",\n          \"color \",\n          \" Black and White\"\n        ],\n        \"semantic_type\": \"\",\n        \"description\": \"\"\n      }\n    },\n    {\n      \"column\": \"director_name\",\n      \"properties\": {\n        \"dtype\": \"string\",\n        \"num_unique_values\": 63,\n        \"samples\": [\n          \"David Ayer\",\n          \"Tony Gilroy\",\n          \"Martin Scorsese\"\n        ],\n        \"semantic_type\": \"\",\n        \"description\": \"\"\n      }\n    },\n    {\n      \"column\": \"duration\",\n      \"properties\": {\n        \"dtype\": \"number\",\n        \"std\": 72,\n        \"min\": -50,\n        \"max\": 650,\n        \"num_unique_values\": 39,\n        \"samples\": [\n          138,\n          135,\n          183\n        ],\n        \"semantic_type\": \"\",\n        \"description\": \"\"\n      }\n    },\n    {\n      \"column\": \"gross\",\n      \"properties\": {\n        \"dtype\": \"number\",\n        \"std\": 139950256.81859657,\n        \"min\": 41229.0,\n        \"max\": 623279547.0,\n        \"num_unique_values\": 85,\n        \"samples\": [\n          52474616.0,\n          116866727.0,\n          132550960.0\n        ],\n        \"semantic_type\": \"\",\n        \"description\": \"\"\n      }\n    },\n    {\n      \"column\": \"genres\",\n      \"properties\": {\n        \"dtype\": \"string\",\n        \"num_unique_values\": 56,\n        \"samples\": [\n          \"Biography|Comedy|Crime|Drama\",\n          \"Drama|Romance\",\n          \"Drama|Horror|Thriller\"\n        ],\n        \"semantic_type\": \"\",\n        \"description\": \"\"\n      }\n    },\n    {\n      \"column\": \"movie_title\",\n      \"properties\": {\n        \"dtype\": \"string\",\n        \"num_unique_values\": 91,\n        \"samples\": [\n          \"The Help\",\n          \"The Revenant\",\n          \"Avengers: Age of Ultron\"\n        ],\n        \"semantic_type\": \"\",\n        \"description\": \"\"\n      }\n    },\n    {\n      \"column\": \"title_year\",\n      \"properties\": {\n        \"dtype\": \"number\",\n        \"std\": 255,\n        \"min\": 202,\n        \"max\": 2016,\n        \"num_unique_values\": 9,\n        \"samples\": [\n          2016,\n          2015,\n          2014\n        ],\n        \"semantic_type\": \"\",\n        \"description\": \"\"\n      }\n    },\n    {\n      \"column\": \"language\",\n      \"properties\": {\n        \"dtype\": \"category\",\n        \"num_unique_values\": 1,\n        \"samples\": [\n          \"English\"\n        ],\n        \"semantic_type\": \"\",\n        \"description\": \"\"\n      }\n    },\n    {\n      \"column\": \"country\",\n      \"properties\": {\n        \"dtype\": \"category\",\n        \"num_unique_values\": 12,\n        \"samples\": [\n          \"Kyrgyzstan\"\n        ],\n        \"semantic_type\": \"\",\n        \"description\": \"\"\n      }\n    },\n    {\n      \"column\": \"budget\",\n      \"properties\": {\n        \"dtype\": \"number\",\n        \"std\": 77031692.48433194,\n        \"min\": 17350.0,\n        \"max\": 250000000.0,\n        \"num_unique_values\": 56,\n        \"samples\": [\n          100000000.0\n        ],\n        \"semantic_type\": \"\",\n        \"description\": \"\"\n      }\n    },\n    {\n      \"column\": \"imdb_score\",\n      \"properties\": {\n        \"dtype\": \"number\",\n        \"std\": 1.925513582443392,\n        \"min\": -7.5,\n        \"max\": 8.8,\n        \"num_unique_values\": 35,\n        \"samples\": [\n          3.0\n        ],\n        \"semantic_type\": \"\",\n        \"description\": \"\"\n      }\n    },\n    {\n      \"column\": \"actors\",\n      \"properties\": {\n        \"dtype\": \"string\",\n        \"num_unique_values\": 88,\n        \"samples\": [\n          \"Liam Neeson,Charlize Theron,Seth MacFarlane\"\n        ],\n        \"semantic_type\": \"\",\n        \"description\": \"\"\n      }\n    },\n    {\n      \"column\": \"movie_facebook_likes\",\n      \"properties\": {\n        \"dtype\": \"number\",\n        \"std\": 58108,\n        \"min\": 0,\n        \"max\": 349000,\n        \"num_unique_values\": 67,\n        \"samples\": [\n          72000\n        ],\n        \"semantic_type\": \"\",\n        \"description\": \"\"\n      }\n    }\n  ]\n}"
            }
          },
          "metadata": {},
          "execution_count": 2
        }
      ]
    },
    {
      "cell_type": "markdown",
      "source": [
        "2. Memeriksa Data\n",
        "\n",
        "*   Menampilkan 50 baris pertama dari dataset dengna tujuan untuk mendapatkan gambaran yang lebih luas tentang isi data, yang bisa membantu dalam mengidentifikasi pola atau anomali yang tidak terlihat hanya dengan 5 baris.\n",
        "*   Mendapatkan Informasi Umum DataFrame. Informasi yang diberikan mencakup struktur data secara keseluruhan, seperti total baris dan kolom, beserta rincian untuk setiap kolomnya, termasuk nama, tipe data (misalnya teks atau angka), dan jumlah data yang terisi. Selain itu, perintah ini juga memberikan perkiraan berapa banyak memori yang digunakan untuk menyimpan data tersebut."
      ],
      "metadata": {
        "id": "XRJAcixWZuTh"
      }
    },
    {
      "cell_type": "code",
      "source": [
        "# Menampilkan 50 baris pertama dari dataset\n",
        "print(\"\\nBeberapa baris pertama dari dataset:\")\n",
        "print(df.head(50))"
      ],
      "metadata": {
        "colab": {
          "base_uri": "https://localhost:8080/"
        },
        "id": "rTgOGVeoZZWi",
        "outputId": "599545df-60d1-4741-9c44-308600239dcd"
      },
      "execution_count": 3,
      "outputs": [
        {
          "output_type": "stream",
          "name": "stdout",
          "text": [
            "\n",
            "Beberapa baris pertama dari dataset:\n",
            "               color         director_name  duration        gross  \\\n",
            "0              Color       Martin Scorsese       240  116866727.0   \n",
            "1              Color           Shane Black       195  408992272.0   \n",
            "2             color      Quentin Tarantino       187   54116191.0   \n",
            "3              Color      Kenneth Lonergan       186      46495.0   \n",
            "4              Color         Peter Jackson       186  258355354.0   \n",
            "5                NaN                   NaN       183  330249062.0   \n",
            "6              Color         Peter Jackson       -50  303001229.0   \n",
            "7              Color           Edward Hall       180          NaN   \n",
            "8              Color           Joss Whedon       173  623279547.0   \n",
            "9              Color           Joss Whedon       173  623279547.0   \n",
            "10               NaN            Tom Tykwer       172   27098580.0   \n",
            "11             Color                  Null       158  102515793.0   \n",
            "12             Color   Christopher Spencer       170   59696176.0   \n",
            "13             Color     Christopher Nolan       169  187991439.0   \n",
            "14             Color          F. Gary Gray       167  161029270.0   \n",
            "15               NaN     Richard Linklater       165   25359200.0   \n",
            "16             Color     Quentin Tarantino       580  162804648.0   \n",
            "17             Color           Michael Bay       165  245428137.0   \n",
            "18               NaN     Christopher Nolan       164  448130642.0   \n",
            "19             Color         Peter Jackson       164  255108370.0   \n",
            "20             Color            Tom Hooper       158  148775460.0   \n",
            "21             Color            Tom Hooper       158  148775460.0   \n",
            "22             Color       Kathryn Bigelow       157   95720716.0   \n",
            "23             Color          Ridley Scott       156  105219735.0   \n",
            "24             Color                   NaN       156  183635922.0   \n",
            "25             Color           Michael Bay       154  352358779.0   \n",
            "26             Color      Denis Villeneuve       153   60962878.0   \n",
            "27             Color     Gnana Rajasekaran       153          NaN   \n",
            "28             Color             Marc Webb       153  262030663.0   \n",
            "29             Color                   Nan       151  228430993.0   \n",
            "30             Color          Ridley Scott       150   65007045.0   \n",
            "31             Color          Ridley Scott       150   65007045.0   \n",
            "32             Color                   NaN       150  182204440.0   \n",
            "33             Color            Mike Leigh       150    3958500.0   \n",
            "34             Color        Gore Verbinski       650   89289910.0   \n",
            "35             Color         David Fincher       149  167735396.0   \n",
            "36             Color          Bryan Singer       149  233914986.0   \n",
            "37             Color             Jay Oliva       148          NaN   \n",
            "38             Color     Christopher Nolan       148  292568851.0   \n",
            "39             Color  Paul Thomas Anderson       148    8093318.0   \n",
            "40             Color            Sam Mendes       148  200074175.0   \n",
            "41             Color                   NaN       147  407197282.0   \n",
            "42             Color  Michael Patrick King       146   95328937.0   \n",
            "43             Color           Tate Taylor       146  169705587.0   \n",
            "44             Color      Francis Lawrence       146  424645577.0   \n",
            "45   Black and White      Steven Spielberg       146   79883359.0   \n",
            "46             Color           Michael Bay       144   52822418.0   \n",
            "47             Color       Guillaume Canet       144      41229.0   \n",
            "48             Color  Paul Thomas Anderson       144   16377274.0   \n",
            "49             Color          Bryan Singer       144  154985087.0   \n",
            "\n",
            "                                      genres  \\\n",
            "0               Biography|Comedy|Crime|Drama   \n",
            "1                    Action|Adventure|Sci-Fi   \n",
            "2       Crime|Drama|Mystery|Thriller|Western   \n",
            "3                                      Drama   \n",
            "4                          Adventure|Fantasy   \n",
            "5                    Action|Adventure|Sci-Fi   \n",
            "6                          Adventure|Fantasy   \n",
            "7                              Drama|Romance   \n",
            "8                    Action|Adventure|Sci-Fi   \n",
            "9                    Action|Adventure|Sci-Fi   \n",
            "10                              Drama|Sci-Fi   \n",
            "11              Crime|Drama|Mystery|Thriller   \n",
            "12                                       NaN   \n",
            "13                    Adventure|Drama|Sci-Fi   \n",
            "14       Biography|Crime|Drama|History|Music   \n",
            "15                                     Drama   \n",
            "16                             Drama|Western   \n",
            "17                   Action|Adventure|Sci-Fi   \n",
            "18                           Action|Thriller   \n",
            "19                         Adventure|Fantasy   \n",
            "20                     Drama|Musical|Romance   \n",
            "21                     Drama|Musical|Romance   \n",
            "22                    Drama|History|Thriller   \n",
            "23            Action|Adventure|Drama|History   \n",
            "24          Adventure|Drama|Thriller|Western   \n",
            "25                   Action|Adventure|Sci-Fi   \n",
            "26              Crime|Drama|Mystery|Thriller   \n",
            "27                   Biography|Drama|History   \n",
            "28                  Action|Adventure|Fantasy   \n",
            "29                    Adventure|Drama|Sci-Fi   \n",
            "30                    Action|Adventure|Drama   \n",
            "31                    Action|Adventure|Drama   \n",
            "32               Biography|Drama|History|War   \n",
            "33                   Biography|Drama|History   \n",
            "34                  Action|Adventure|Western   \n",
            "35              Crime|Drama|Mystery|Thriller   \n",
            "36  Action|Adventure|Fantasy|Sci-Fi|Thriller   \n",
            "37    Action|Animation|Crime|Sci-Fi|Thriller   \n",
            "38          Action|Adventure|Sci-Fi|Thriller   \n",
            "39        Comedy|Crime|Drama|Mystery|Romance   \n",
            "40                 Action|Adventure|Thriller   \n",
            "41                   Action|Adventure|Sci-Fi   \n",
            "42                      Comedy|Drama|Romance   \n",
            "43                                     Drama   \n",
            "44                 Adventure|Sci-Fi|Thriller   \n",
            "45                                 Drama|War   \n",
            "46                 Action|Drama|Thriller|War   \n",
            "47                      Crime|Drama|Thriller   \n",
            "48                                     Drama   \n",
            "49                   Action|Adventure|Sci-Fi   \n",
            "\n",
            "                                  movie_title  title_year language  \\\n",
            "0                     The Wolf of Wall Street        2013  English   \n",
            "1                                  Iron Man 3        2013  English   \n",
            "2                           The Hateful Eight        2015  English   \n",
            "3                                    Margaret        2011  English   \n",
            "4         The Hobbit: The Desolation of Smaug        2013  English   \n",
            "5          Batman v Superman: Dawn of Justice         202  English   \n",
            "6           The Hobbit: An Unexpected Journey        2012  English   \n",
            "7                                    Restless        2012  English   \n",
            "8                                The Avengers        2012  English   \n",
            "9                                The Avengers        2012  English   \n",
            "10                                Cloud Atlas        2012  English   \n",
            "11            The Girl with the Dragon Tattoo        2011  English   \n",
            "12                                 Son of God        2014  English   \n",
            "13                               Interstellar        2014  English   \n",
            "14                     Straight Outta Compton        2015  English   \n",
            "15                                    Boyhood        2014  English   \n",
            "16                           Django Unchained        2012  English   \n",
            "17            Transformers: Age of Extinction        2014  English   \n",
            "18                      The Dark Knight Rises        2012  English   \n",
            "19  The Hobbit: The Battle of the Five Armies        2014  English   \n",
            "20                             Les Misérables        2012  English   \n",
            "21                             Les Misérables        2012  English   \n",
            "22                           Zero Dark Thirty        2012  English   \n",
            "23                                 Robin Hood        2010  English   \n",
            "24                               The Revenant        2015  English   \n",
            "25             Transformers: Dark of the Moon        2011  English   \n",
            "26                                  Prisoners        2013  English   \n",
            "27                                  Ramanujan        2014  English   \n",
            "28                     The Amazing Spider-Man        2012  English   \n",
            "29                                The Martian        2015  English   \n",
            "30                     Exodus: Gods and Kings        2014  English   \n",
            "31                     Exodus: Gods and Kings        2014  English   \n",
            "32                                    Lincoln        2012  English   \n",
            "33                                 Mr. Turner        2014  English   \n",
            "34                            The Lone Ranger        2013  English   \n",
            "35                                  Gone Girl        2014  English   \n",
            "36                 X-Men: Days of Future Past        2014  English   \n",
            "37    Batman: The Dark Knight Returns, Part 2        2013  English   \n",
            "38                                  Inception        2010  English   \n",
            "39                              Inherent Vice        2014  English   \n",
            "40                                    Spectre        2015  English   \n",
            "41                 Captain America: Civil War        2016  English   \n",
            "42                         Sex and the City 2        2010  English   \n",
            "43                                   The Help        2011  English   \n",
            "44            The Hunger Games: Catching Fire        2013  English   \n",
            "45                                  War Horse        2011  English   \n",
            "46                                   13 Hours        2016  English   \n",
            "47                                 Blood Ties        2013  English   \n",
            "48                                 The Master        2012  English   \n",
            "49                          X-Men: Apocalypse        2016  English   \n",
            "\n",
            "          country       budget  imdb_score  \\\n",
            "0             USA  100000000.0         8.2   \n",
            "1             USA  200000000.0         7.2   \n",
            "2             USA   44000000.0         7.9   \n",
            "3             usa   14000000.0         6.5   \n",
            "4             USA  225000000.0         7.9   \n",
            "5             USA  250000000.0         6.9   \n",
            "6             USA  180000000.0         7.9   \n",
            "7              UK          NaN         7.2   \n",
            "8             USA  220000000.0         8.1   \n",
            "9             USA  220000000.0         8.1   \n",
            "10        Germany  102000000.0        -7.5   \n",
            "11            USA   90000000.0         7.8   \n",
            "12            USA   22000000.0         5.6   \n",
            "13            USA  165000000.0         8.6   \n",
            "14            USA   28000000.0         7.9   \n",
            "15            USA    4000000.0         8.0   \n",
            "16            USA  100000000.0         8.5   \n",
            "17            USA  210000000.0         5.7   \n",
            "18            USA  250000000.0         8.5   \n",
            "19    New Zealand  250000000.0         7.5   \n",
            "20            USA   61000000.0         7.6   \n",
            "21            USA   61000000.0         7.6   \n",
            "22            USA   40000000.0         7.4   \n",
            "23            USA  200000000.0         6.7   \n",
            "24            USA  135000000.0         8.1   \n",
            "25            USA  195000000.0         6.3   \n",
            "26            USA   46000000.0         8.1   \n",
            "27          India          NaN         7.0   \n",
            "28            USA  230000000.0         7.0   \n",
            "29            USA  108000000.0         8.1   \n",
            "30             UK  140000000.0         6.1   \n",
            "31             UK  140000000.0         6.1   \n",
            "32            USA   65000000.0         7.4   \n",
            "33             UK          NaN         6.8   \n",
            "34            USA  215000000.0         6.5   \n",
            "35            USA   61000000.0         8.1   \n",
            "36  United States  200000000.0         8.0   \n",
            "37            USA    3500000.0         8.4   \n",
            "38            USA  160000000.0         8.8   \n",
            "39            USA   20000000.0         6.7   \n",
            "40             UK  245000000.0         6.8   \n",
            "41            USA  250000000.0         8.2   \n",
            "42            USA  100000000.0         4.3   \n",
            "43            USA   25000000.0         8.1   \n",
            "44            USA  130000000.0         7.6   \n",
            "45            usa   66000000.0         7.2   \n",
            "46            USA   50000000.0         7.4   \n",
            "47         France   25500000.0         6.5   \n",
            "48            USA   32000000.0         7.1   \n",
            "49            USA  178000000.0         7.3   \n",
            "\n",
            "                                               actors  movie_facebook_likes  \n",
            "0   Leonardo DiCaprio,Matthew McConaughey,Jon Favreau                138000  \n",
            "1           Robert Downey Jr.,Jon Favreau,Don Cheadle                 95000  \n",
            "2           Craig Stark,Jennifer Jason Leigh,Zoë Bell                114000  \n",
            "3         Matt Damon,Kieran Culkin,John Gallagher Jr.                     0  \n",
            "4               Aidan Turner,Adam Brown,James Nesbitt                 83000  \n",
            "5            Henry Cavill,Lauren Cohan,Alan D. Purwin                197000  \n",
            "6               Aidan Turner,Adam Brown,James Nesbitt                166000  \n",
            "7       Rufus Sewell,Hayley Atwell,Charlotte Rampling                   434  \n",
            "8   Chris Hemsworth,Robert Downey Jr.,Scarlett Joh...                123000  \n",
            "9   Chris Hemsworth,Robert Downey Jr.,Scarlett Joh...                123000  \n",
            "10               Tom Hanks,Jim Sturgess,Jim Broadbent                124000  \n",
            "11        Robin Wright,Goran Visnjic,Joely Richardson                 54000  \n",
            "12           Roma Downey,Amber Rose Revah,Darwin Shaw                 15000  \n",
            "13    Matthew McConaughey,Anne Hathaway,Mackenzie Foy                349000  \n",
            "14        Aldis Hodge,Neil Brown Jr.,R. Marcos Taylor                 76000  \n",
            "15     Ellar Coltrane,Lorelei Linklater,Libby Villari                 92000  \n",
            "16     Leonardo DiCaprio,Christoph Waltz,Ato Essandoh                199000  \n",
            "17            Bingbing Li,Sophia Myles,Kelsey Grammer                 56000  \n",
            "18      Tom Hardy,Christian Bale,Joseph Gordon-Levitt                164000  \n",
            "19              Aidan Turner,Adam Brown,James Nesbitt                 65000  \n",
            "20          Hugh Jackman,Eddie Redmayne,Anne Hathaway                144000  \n",
            "21          Hugh Jackman,Eddie Redmayne,Anne Hathaway                144000  \n",
            "22      Jennifer Ehle,Harold Perrineau,Parker Sawyers                 39000  \n",
            "23                Mark Addy,William Hurt,Scott Grimes                 17000  \n",
            "24             Leonardo DiCaprio,Tom Hardy,Lukas Haas                190000  \n",
            "25          Glenn Morshower,Lester Speight,Kevin Dunn                 46000  \n",
            "26        Hugh Jackman,Jake Gyllenhaal,Dylan Minnette                 86000  \n",
            "27         Mani Bharathi,Michael Lieber,Kevin McGowan                    58  \n",
            "28             Emma Stone,Andrew Garfield,Chris Zylka                 56000  \n",
            "29             Matt Damon,Donald Glover,Benedict Wong                153000  \n",
            "30       Christian Bale,María Valverde,Ben Mendelsohn                 51000  \n",
            "31       Christian Bale,María Valverde,Ben Mendelsohn                 51000  \n",
            "32     Joseph Gordon-Levitt,Hal Holbrook,Bruce McGill                 71000  \n",
            "33            Lesley Manville,Ruth Sheen,Karl Johnson                     0  \n",
            "34              Johnny Depp,Ruth Wilson,Tom Wilkinson                 48000  \n",
            "35          Patrick Fugit,Sela Ward,Emily Ratajkowski                146000  \n",
            "36      Jennifer Lawrence,Peter Dinklage,Hugh Jackman                 82000  \n",
            "37           Michael Emerson,Mark Valley,Grey Griffin                  5000  \n",
            "38   Leonardo DiCaprio,Tom Hardy,Joseph Gordon-Levitt                175000  \n",
            "39  Martin Dew,Katherine Waterston,Serena Scott Th...                 18000  \n",
            "40      Christoph Waltz,Rory Kinnear,Stephanie Sigman                 85000  \n",
            "41   Robert Downey Jr.,Scarlett Johansson,Chris Evans                 72000  \n",
            "42             Chris Noth,Liza Minnelli,Kristin Davis                     0  \n",
            "43          Emma Stone,Bryce Dallas Howard,Mike Vogel                 75000  \n",
            "44  Jennifer Lawrence,Josh Hutcherson,Sandra Ellis...                 82000  \n",
            "45    Jeremy Irvine,Benedict Cumberbatch,Eddie Marsan                 28000  \n",
            "46     Toby Stephens,James Badge Dale,David Costabile                 44000  \n",
            "47                Mila Kunis,Lili Taylor,Billy Crudup                     0  \n",
            "48     Mike Howard,Jeffrey W. Jenkins,Bruce Goodchild                 27000  \n",
            "49  Jennifer Lawrence,Michael Fassbender,Tye Sheridan                 54000  \n"
          ]
        }
      ]
    },
    {
      "cell_type": "code",
      "source": [
        "# Memeriksa informasi umum tentang dataset\n",
        "df.info()"
      ],
      "metadata": {
        "colab": {
          "base_uri": "https://localhost:8080/"
        },
        "id": "ef0kXyehc-a_",
        "outputId": "9a9afa7e-edb4-4cab-adc6-645b85e3df1a"
      },
      "execution_count": 39,
      "outputs": [
        {
          "output_type": "stream",
          "name": "stdout",
          "text": [
            "<class 'pandas.core.frame.DataFrame'>\n",
            "Index: 84 entries, 0 to 98\n",
            "Data columns (total 13 columns):\n",
            " #   Column                Non-Null Count  Dtype  \n",
            "---  ------                --------------  -----  \n",
            " 0   color                 84 non-null     object \n",
            " 1   director_name         84 non-null     object \n",
            " 2   duration              84 non-null     float64\n",
            " 3   gross                 84 non-null     float64\n",
            " 4   genres                84 non-null     object \n",
            " 5   movie_title           84 non-null     object \n",
            " 6   title_year            84 non-null     int64  \n",
            " 7   language              84 non-null     object \n",
            " 8   country               84 non-null     object \n",
            " 9   budget                84 non-null     float64\n",
            " 10  imdb_score            84 non-null     float64\n",
            " 11  actors                84 non-null     object \n",
            " 12  movie_facebook_likes  84 non-null     int64  \n",
            "dtypes: float64(4), int64(2), object(7)\n",
            "memory usage: 11.2+ KB\n"
          ]
        }
      ]
    },
    {
      "cell_type": "markdown",
      "source": [
        "Dataset ini berisi kumpulan data 99 film, di mana setiap film dijelaskan melalui 13 kategori informasi yang berbeda. Berikut adalah rincian dari setiap kategori tersebut:\n",
        "\n",
        "color: Spesifikasi apakah film disajikan dalam format berwarna atau hitam putih.\n",
        "\n",
        "director_name: Nama dari sutradara yang mengarahkan film.\n",
        "\n",
        "duration: Total waktu tayang film dalam satuan menit.\n",
        "\n",
        "gross: Jumlah pendapatan kotor yang berhasil dikumpulkan film dari penayangan di bioskop.\n",
        "\n",
        "genres: Kategori atau genre dari film, yang bisa lebih dari satu dan dipisahkan oleh simbol '|'.\n",
        "\n",
        "movie_title: Judul resmi dari film.\n",
        "\n",
        "title_year: Tahun saat film pertama kali dirilis.\n",
        "\n",
        "language: Bahasa utama yang digunakan dalam dialog film.\n",
        "\n",
        "country: Negara asal di mana film tersebut diproduksi.\n",
        "\n",
        "budget: Total biaya yang dihabiskan untuk produksi film.\n",
        "\n",
        "imdb_score: Nilai rating film di platform IMDb dengan rentang 1 hingga 10.\n",
        "\n",
        "actors: Daftar nama beberapa pemeran utama dalam film.\n",
        "\n",
        "movie_facebook_likes: Total jumlah \"suka\" (likes) yang diterima oleh halaman Facebook resmi film tersebut.\n",
        "\n",
        "Secara keseluruhan, dataset ini menyajikan gambaran lengkap mengenai berbagai film. Setiap entri (baris) mewakili satu film unik, dengan kolom yang merinci aspek produksi (seperti sutradara dan anggaran) serta data mengenai popularitasnya (seperti pendapatan, skor IMDb, dan jumlah likes di Facebook).\n",
        "\n",
        "kode selanjutnya bertujuan untuk memeriksa dan mengidentifikasi adanya data yang hilang (null) atau entri yang sama persis (duplikat) di dalam dataset."
      ],
      "metadata": {
        "id": "IKsxpuD5dStr"
      }
    },
    {
      "cell_type": "code",
      "source": [
        "# replace \"Null\" dengan NaN\n",
        "df.replace(\"Null\", np.nan, inplace = True)\n",
        "df.replace(\"N/A\", np.nan, inplace=True)\n",
        "df.replace(\"Nan\", np.nan, inplace=True)\n",
        "#Cek Missing Value\n",
        "print(df.isnull().sum())"
      ],
      "metadata": {
        "colab": {
          "base_uri": "https://localhost:8080/"
        },
        "id": "NYrVF4v1g2pm",
        "outputId": "c4cde4ca-2a74-4b70-8270-e5faf4cb1735"
      },
      "execution_count": 6,
      "outputs": [
        {
          "output_type": "stream",
          "name": "stdout",
          "text": [
            "\n",
            "Informasi umum tentang dataset: missing value\n",
            "color                   11\n",
            "director_name           13\n",
            "duration                 0\n",
            "gross                    8\n",
            "genres                   1\n",
            "movie_title              0\n",
            "title_year               0\n",
            "language                 0\n",
            "country                  0\n",
            "budget                   4\n",
            "imdb_score               0\n",
            "actors                   0\n",
            "movie_facebook_likes     0\n",
            "dtype: int64\n"
          ]
        }
      ]
    },
    {
      "cell_type": "markdown",
      "source": [
        "3. Membersihkan Data\n",
        "\n",
        "Pada bagian ini beberapa hal yang akan dilakukan:\n",
        "\n",
        "*   Cek Data Duplikat dan menghapusnya.\n",
        "\n",
        "*   Menghapus Data Krusial yang Kosong: Baris data yang tidak memiliki informasi pendapatan (gross) atau anggaran (budget) akan dihapus karena dianggap vital untuk analisis.\n",
        "*   Mengisi Data yang Hilang:\n",
        "\n",
        "    Kolom color yang kosong akan diisi\n",
        "    dengan nilai yang paling sering muncul (modus).\n",
        "\n",
        "    Kolom director_name yang kosong akan diberi label \"Unknown\".\n",
        "\n",
        "    Kolom genres yang kosong akan diisi dengan nilai \"None\".\n",
        "\n",
        "*   Memperbaiki Data Tidak Valid:\n",
        "\n",
        "    Nilai negatif pada kolom imdb_score akan diubah menjadi positif.\n",
        "\n",
        "    Durasi film yang tidak wajar (di atas 600 atau di bawah 10 menit) akan diganti dengan nilai tengah (median) dari keseluruhan data durasi.\n",
        "\n",
        "\n"
      ],
      "metadata": {
        "id": "v1hHcFZDh-MK"
      }
    },
    {
      "cell_type": "code",
      "source": [
        "# Cek Data Duplikat\n",
        "jumlah_duplikat = df[df.duplicated(keep=False)]\n",
        "print(jumlah_duplikat)\n",
        "print(\"jumlah_duplikat : \", df.duplicated().sum())"
      ],
      "metadata": {
        "colab": {
          "base_uri": "https://localhost:8080/"
        },
        "id": "O4OJ1t1uoei7",
        "outputId": "f6ed8158-d5f1-47ae-d938-b9bbd240561f"
      },
      "execution_count": 12,
      "outputs": [
        {
          "output_type": "stream",
          "name": "stdout",
          "text": [
            "    color      director_name  duration        gross  \\\n",
            "8   Color        Joss Whedon       173  623279547.0   \n",
            "9   Color        Joss Whedon       173  623279547.0   \n",
            "20  Color         Tom Hooper       158  148775460.0   \n",
            "21  Color         Tom Hooper       158  148775460.0   \n",
            "30  Color       Ridley Scott       150   65007045.0   \n",
            "31  Color       Ridley Scott       150   65007045.0   \n",
            "52  Color         Sam Mendes       143  304360277.0   \n",
            "53  Color         Sam Mendes       143  304360277.0   \n",
            "54  Color       Baz Luhrmann       143  144812796.0   \n",
            "55  Color       Baz Luhrmann       143  144812796.0   \n",
            "61  Color  Timur Bekmambetov       141          NaN   \n",
            "63  Color  Timur Bekmambetov       141          NaN   \n",
            "\n",
            "                       genres             movie_title  title_year language  \\\n",
            "8     Action|Adventure|Sci-Fi            The Avengers        2012  English   \n",
            "9     Action|Adventure|Sci-Fi            The Avengers        2012  English   \n",
            "20      Drama|Musical|Romance          Les Misérables        2012  English   \n",
            "21      Drama|Musical|Romance          Les Misérables        2012  English   \n",
            "30     Action|Adventure|Drama  Exodus: Gods and Kings        2014  English   \n",
            "31     Action|Adventure|Drama  Exodus: Gods and Kings        2014  English   \n",
            "52  Action|Adventure|Thriller                 Skyfall        2012  English   \n",
            "53  Action|Adventure|Thriller                 Skyfall        2012  English   \n",
            "54              Drama|Romance        The Great Gatsby        2013  English   \n",
            "55              Drama|Romance        The Great Gatsby        2013  English   \n",
            "61    Adventure|Drama|History                 Ben-Hur        2016  English   \n",
            "63    Adventure|Drama|History                 Ben-Hur        2016  English   \n",
            "\n",
            "      country       budget  imdb_score  \\\n",
            "8         USA  220000000.0         8.1   \n",
            "9         USA  220000000.0         8.1   \n",
            "20        USA   61000000.0         7.6   \n",
            "21        USA   61000000.0         7.6   \n",
            "30         UK  140000000.0         6.1   \n",
            "31         UK  140000000.0         6.1   \n",
            "52         UK  200000000.0         7.8   \n",
            "53         UK  200000000.0         7.8   \n",
            "54  Australia  105000000.0         7.3   \n",
            "55  Australia  105000000.0         7.3   \n",
            "61        USA  100000000.0         6.1   \n",
            "63        USA  100000000.0         6.1   \n",
            "\n",
            "                                               actors  movie_facebook_likes  \n",
            "8   Chris Hemsworth,Robert Downey Jr.,Scarlett Joh...                123000  \n",
            "9   Chris Hemsworth,Robert Downey Jr.,Scarlett Joh...                123000  \n",
            "20          Hugh Jackman,Eddie Redmayne,Anne Hathaway                144000  \n",
            "21          Hugh Jackman,Eddie Redmayne,Anne Hathaway                144000  \n",
            "30       Christian Bale,María Valverde,Ben Mendelsohn                 51000  \n",
            "31       Christian Bale,María Valverde,Ben Mendelsohn                 51000  \n",
            "52           Albert Finney,Helen McCrory,Rory Kinnear                 80000  \n",
            "53           Albert Finney,Helen McCrory,Rory Kinnear                 80000  \n",
            "54   Leonardo DiCaprio,Elizabeth Debicki,Steve Bisley                115000  \n",
            "55   Leonardo DiCaprio,Elizabeth Debicki,Steve Bisley                115000  \n",
            "61           Morgan Freeman,Ayelet Zurer,Moises Arias                     0  \n",
            "63           Morgan Freeman,Ayelet Zurer,Moises Arias                     0  \n",
            "jumlah_duplikat :  6\n"
          ]
        }
      ]
    },
    {
      "cell_type": "markdown",
      "source": [
        "Terdapat sekitar 2 baris yang memiliki data yang sama di dalam 12 baris. Jadi, ada 6 baris duplikat. Baris data yang tidak memiliki informasi pendapatan (gross) atau anggaran (budget) akan dihapus karena dianggap vital untuk analisis."
      ],
      "metadata": {
        "id": "jTzl79dCgs-6"
      }
    },
    {
      "cell_type": "code",
      "source": [
        "# Menghapus baris duplikat dan memperbarui DataFrame\n",
        "df.drop_duplicates(inplace=True)\n",
        "print(\"Baris duplikat telah dihapus.\")"
      ],
      "metadata": {
        "id": "3jIOB-iVs6o-",
        "outputId": "9eb820fd-e6ec-4d7f-9b55-8d179017825c",
        "colab": {
          "base_uri": "https://localhost:8080/"
        }
      },
      "execution_count": 13,
      "outputs": [
        {
          "output_type": "stream",
          "name": "stdout",
          "text": [
            "Baris duplikat telah dihapus.\n"
          ]
        }
      ]
    },
    {
      "cell_type": "code",
      "source": [
        "# Menghapus baris jika 'gross' atau 'budget' kosong\n",
        "df.dropna(subset=['gross', 'budget'], inplace=True)"
      ],
      "metadata": {
        "id": "ZevVs_zLiK9F"
      },
      "execution_count": 14,
      "outputs": []
    },
    {
      "cell_type": "code",
      "source": [
        "#mengisi data kosong di kolom 'color' dengan modus\n",
        "df['color'].fillna(df['color'].mode()[0], inplace=True)"
      ],
      "metadata": {
        "colab": {
          "base_uri": "https://localhost:8080/"
        },
        "id": "HJWsD2RXMJWd",
        "outputId": "0751a1f4-6d21-4799-f1e4-200c336c1af2"
      },
      "execution_count": 19,
      "outputs": [
        {
          "output_type": "stream",
          "name": "stderr",
          "text": [
            "/tmp/ipython-input-1410063008.py:2: FutureWarning: A value is trying to be set on a copy of a DataFrame or Series through chained assignment using an inplace method.\n",
            "The behavior will change in pandas 3.0. This inplace method will never work because the intermediate object on which we are setting values always behaves as a copy.\n",
            "\n",
            "For example, when doing 'df[col].method(value, inplace=True)', try using 'df.method({col: value}, inplace=True)' or df[col] = df[col].method(value) instead, to perform the operation inplace on the original object.\n",
            "\n",
            "\n",
            "  df['color'].fillna(df['color'].mode()[0], inplace=True)\n"
          ]
        }
      ]
    },
    {
      "cell_type": "code",
      "source": [
        "#mengisi data kosong di kolom 'director_name' dengan 'unknown'\n",
        "df['director_name'].fillna('Unknown', inplace=True)"
      ],
      "metadata": {
        "colab": {
          "base_uri": "https://localhost:8080/"
        },
        "id": "_GN6Y-zINVw_",
        "outputId": "2edb5bd9-7f45-4dc4-b820-855c0dec854c"
      },
      "execution_count": 20,
      "outputs": [
        {
          "output_type": "stream",
          "name": "stderr",
          "text": [
            "/tmp/ipython-input-3040526613.py:2: FutureWarning: A value is trying to be set on a copy of a DataFrame or Series through chained assignment using an inplace method.\n",
            "The behavior will change in pandas 3.0. This inplace method will never work because the intermediate object on which we are setting values always behaves as a copy.\n",
            "\n",
            "For example, when doing 'df[col].method(value, inplace=True)', try using 'df.method({col: value}, inplace=True)' or df[col] = df[col].method(value) instead, to perform the operation inplace on the original object.\n",
            "\n",
            "\n",
            "  df['director_name'].fillna('Unknown', inplace=True)\n"
          ]
        }
      ]
    },
    {
      "cell_type": "code",
      "source": [
        "#mengisi data kosong di kolom 'genres' dengan 'None'\n",
        "df['genres'].fillna('None', inplace=True)"
      ],
      "metadata": {
        "colab": {
          "base_uri": "https://localhost:8080/"
        },
        "id": "p-FO-n3qOB3W",
        "outputId": "2d6be5e5-e9ed-4f55-eba1-15cb8bf9c0af"
      },
      "execution_count": 21,
      "outputs": [
        {
          "output_type": "stream",
          "name": "stderr",
          "text": [
            "/tmp/ipython-input-1066128701.py:2: FutureWarning: A value is trying to be set on a copy of a DataFrame or Series through chained assignment using an inplace method.\n",
            "The behavior will change in pandas 3.0. This inplace method will never work because the intermediate object on which we are setting values always behaves as a copy.\n",
            "\n",
            "For example, when doing 'df[col].method(value, inplace=True)', try using 'df.method({col: value}, inplace=True)' or df[col] = df[col].method(value) instead, to perform the operation inplace on the original object.\n",
            "\n",
            "\n",
            "  df['genres'].fillna('None', inplace=True)\n"
          ]
        }
      ]
    },
    {
      "cell_type": "code",
      "source": [
        "# Memperbaiki data yang tidak valid (nilai negatif) di kolom 'imdb_score' dengan fungsi nilai absolut\n",
        "df.loc[~df['imdb_score'].between(0, 10), 'imdb_score'] = np.abs(df['imdb_score'])"
      ],
      "metadata": {
        "id": "bn5_g0eOOv5-"
      },
      "execution_count": 22,
      "outputs": []
    },
    {
      "cell_type": "code",
      "source": [
        "# Memperbaiki data yang tidak valid di kolom 'duration'\n",
        "\n",
        "# 1. Ubah nilai yang tidak valid menjadi NaN agar bisa kita abaikan dalam perhitungan\n",
        "# Anggap saja film dengan durasi <= 10 menit atau > 600 menit (10 jam) tidak valid.\n",
        "df.loc[df['duration'] <= 10, 'duration'] = np.nan\n",
        "df.loc[df['duration'] > 600, 'duration'] = np.nan\n",
        "\n",
        "# 2. Hitung median dari kolom 'duration', dengan mengabaikan nilai NaN yang baru dibuat\n",
        "median_durasi = df['duration'].median()\n",
        "print(f\"Median durasi film adalah: {median_durasi} menit\")\n",
        "\n",
        "# 3. Isi semua nilai kosong (NaN) dengan median yang sudah dihitung\n",
        "df['duration'].fillna(median_durasi, inplace=True)"
      ],
      "metadata": {
        "colab": {
          "base_uri": "https://localhost:8080/"
        },
        "id": "6cVX5AkDO539",
        "outputId": "854f1012-8726-4b7d-85b3-f5ca7428a614"
      },
      "execution_count": 23,
      "outputs": [
        {
          "output_type": "stream",
          "name": "stdout",
          "text": [
            "Median durasi film adalah: 144.0 menit\n"
          ]
        },
        {
          "output_type": "stream",
          "name": "stderr",
          "text": [
            "/tmp/ipython-input-3376413625.py:13: FutureWarning: A value is trying to be set on a copy of a DataFrame or Series through chained assignment using an inplace method.\n",
            "The behavior will change in pandas 3.0. This inplace method will never work because the intermediate object on which we are setting values always behaves as a copy.\n",
            "\n",
            "For example, when doing 'df[col].method(value, inplace=True)', try using 'df.method({col: value}, inplace=True)' or df[col] = df[col].method(value) instead, to perform the operation inplace on the original object.\n",
            "\n",
            "\n",
            "  df['duration'].fillna(median_durasi, inplace=True)\n"
          ]
        }
      ]
    },
    {
      "cell_type": "code",
      "source": [
        "#Hasil setelah pembersihan data\n",
        "print(df.isnull().sum())"
      ],
      "metadata": {
        "colab": {
          "base_uri": "https://localhost:8080/"
        },
        "id": "QBsGfVwaSENt",
        "outputId": "e21990d8-93d1-410f-9838-58befabe7f81"
      },
      "execution_count": 26,
      "outputs": [
        {
          "output_type": "stream",
          "name": "stdout",
          "text": [
            "color                   0\n",
            "director_name           0\n",
            "duration                0\n",
            "gross                   0\n",
            "genres                  0\n",
            "movie_title             0\n",
            "title_year              0\n",
            "language                0\n",
            "country                 0\n",
            "budget                  0\n",
            "imdb_score              0\n",
            "actors                  0\n",
            "movie_facebook_likes    0\n",
            "dtype: int64\n"
          ]
        }
      ]
    },
    {
      "cell_type": "code",
      "source": [
        "print(df)"
      ],
      "metadata": {
        "colab": {
          "base_uri": "https://localhost:8080/"
        },
        "id": "j8STj9V2SNe6",
        "outputId": "d3ded927-5c2f-4d10-e857-c52e321751e1"
      },
      "execution_count": 27,
      "outputs": [
        {
          "output_type": "stream",
          "name": "stdout",
          "text": [
            "     color      director_name  duration        gross  \\\n",
            "0    Color    Martin Scorsese     240.0  116866727.0   \n",
            "1    Color        Shane Black     195.0  408992272.0   \n",
            "2   Color   Quentin Tarantino     187.0   54116191.0   \n",
            "3    Color   Kenneth Lonergan     186.0      46495.0   \n",
            "4    Color      Peter Jackson     186.0  258355354.0   \n",
            "..     ...                ...       ...          ...   \n",
            "93   Color        Tony Gilroy     135.0  113165635.0   \n",
            "94   Color      Steve McQueen     134.0   56667870.0   \n",
            "96   Color    Paul Greengrass     134.0  107100855.0   \n",
            "97   Color         David Ayer     134.0   85707116.0   \n",
            "98   Color     Clint Eastwood     144.0   47034272.0   \n",
            "\n",
            "                                  genres                          movie_title  \\\n",
            "0           Biography|Comedy|Crime|Drama              The Wolf of Wall Street   \n",
            "1                Action|Adventure|Sci-Fi                           Iron Man 3   \n",
            "2   Crime|Drama|Mystery|Thriller|Western                    The Hateful Eight   \n",
            "3                                  Drama                             Margaret   \n",
            "4                      Adventure|Fantasy  The Hobbit: The Desolation of Smaug   \n",
            "..                                   ...                                  ...   \n",
            "93             Action|Adventure|Thriller                    The Bourne Legacy   \n",
            "94               Biography|Drama|History                     12 Years a Slave   \n",
            "96              Biography|Drama|Thriller                     Captain Phillips   \n",
            "97                      Action|Drama|War                                 Fury   \n",
            "98         Biography|Drama|Music|Musical                          Jersey Boys   \n",
            "\n",
            "    title_year language country       budget  imdb_score  \\\n",
            "0         2013  English     USA  100000000.0         8.2   \n",
            "1         2013  English     USA  200000000.0         7.2   \n",
            "2         2015  English     USA   44000000.0         7.9   \n",
            "3         2011  English     usa   14000000.0         6.5   \n",
            "4         2013  English     USA  225000000.0         7.9   \n",
            "..         ...      ...     ...          ...         ...   \n",
            "93        2012  English     USA  125000000.0         6.7   \n",
            "94        2013  English     USA   20000000.0         8.1   \n",
            "96        2013  English     USA   55000000.0         7.9   \n",
            "97        2014  English     USA   68000000.0         7.6   \n",
            "98        2014  English     USA   40000000.0         6.9   \n",
            "\n",
            "                                               actors  movie_facebook_likes  \n",
            "0   Leonardo DiCaprio,Matthew McConaughey,Jon Favreau                138000  \n",
            "1           Robert Downey Jr.,Jon Favreau,Don Cheadle                 95000  \n",
            "2           Craig Stark,Jennifer Jason Leigh,Zoë Bell                114000  \n",
            "3         Matt Damon,Kieran Culkin,John Gallagher Jr.                     0  \n",
            "4               Aidan Turner,Adam Brown,James Nesbitt                 83000  \n",
            "..                                                ...                   ...  \n",
            "93              Jeremy Renner,Scott Glenn,Stacy Keach                 31000  \n",
            "94       Quvenzhané Wallis,Scoot McNairy,Taran Killam                 83000  \n",
            "96             Tom Hanks,Chris Mulkey,Michael Chernus                 65000  \n",
            "97                 Brad Pitt,Logan Lerman,Jim Parrack                 82000  \n",
            "98      Johnny Cannizzaro,Steve Schirripa,Scott Vance                 16000  \n",
            "\n",
            "[84 rows x 13 columns]\n"
          ]
        }
      ]
    },
    {
      "cell_type": "markdown",
      "source": [
        "4. Transformasi Data\n",
        "\n",
        "Pada bagian ini, akan dilakukan transformasi data, yang tujuan utamanya adalah mengubah dan menyesuaikan format data agar lebih konsisten dan siap untuk dianalisis lebih lanjut.\n",
        "\n",
        "*   Mengubah beberapa kolom menjadi tipe data numerik.\n",
        "*   Memisahkan (splitting) kolom genres.\n",
        "*   Menyeragamkan (standardize) kolom color dan country."
      ],
      "metadata": {
        "id": "48bkvU5tSgct"
      }
    },
    {
      "cell_type": "code",
      "source": [
        "# Mengubah tipe data kolom menjadi tipe data yang sesuai\n",
        "numeric_cols = ['duration', 'gross', 'title_year', 'budget', 'imdb_score']\n",
        "for col in numeric_cols:\n",
        "    df[col] = pd.to_numeric(df[col], errors='coerce')"
      ],
      "metadata": {
        "id": "U-4-fWIZSj8L"
      },
      "execution_count": 28,
      "outputs": []
    },
    {
      "cell_type": "code",
      "source": [
        "# Memisahkan kolom 'genres'\n",
        "\n",
        "# 1. Pisahkan kolom 'genres' berdasarkan tanda '|' menjadi sebuah DataFrame baru\n",
        "df_genre_terpisah = df['genres'].str.split('|', expand=True)\n",
        "\n",
        "# 2. Buat nama kolom baru seperti 'genre_1', 'genre_2', dst.\n",
        "nama_kolom_baru = [f'genre_{i+1}' for i in range(df_genre_terpisah.shape[1])]\n",
        "df_genre_terpisah.columns = nama_kolom_baru\n",
        "\n",
        "# 3. Gabungkan kolom-kolom genre yang baru dengan DataFrame asli\n",
        "df_dengan_genre = pd.concat([df, df_genre_terpisah], axis=1)\n",
        "\n",
        "# Mengisi nilai kosong yang mungkin muncul setelah penggabungan dengan 'None' (atau teks lain)\n",
        "df_dengan_genre.fillna('None', inplace=True)\n",
        "\n",
        "# Hasil\n",
        "# Menampilkan 5 baris pertama dari DataFrame yang sudah digabungkan\n",
        "print(df_dengan_genre.head())"
      ],
      "metadata": {
        "colab": {
          "base_uri": "https://localhost:8080/"
        },
        "id": "GQ7a5u12Sybh",
        "outputId": "a31f95dd-6327-428d-fadf-15fe46ca3fa4"
      },
      "execution_count": 29,
      "outputs": [
        {
          "output_type": "stream",
          "name": "stdout",
          "text": [
            "    color      director_name  duration        gross  \\\n",
            "0   Color    Martin Scorsese     240.0  116866727.0   \n",
            "1   Color        Shane Black     195.0  408992272.0   \n",
            "2  Color   Quentin Tarantino     187.0   54116191.0   \n",
            "3   Color   Kenneth Lonergan     186.0      46495.0   \n",
            "4   Color      Peter Jackson     186.0  258355354.0   \n",
            "\n",
            "                                 genres                          movie_title  \\\n",
            "0          Biography|Comedy|Crime|Drama              The Wolf of Wall Street   \n",
            "1               Action|Adventure|Sci-Fi                           Iron Man 3   \n",
            "2  Crime|Drama|Mystery|Thriller|Western                    The Hateful Eight   \n",
            "3                                 Drama                             Margaret   \n",
            "4                     Adventure|Fantasy  The Hobbit: The Desolation of Smaug   \n",
            "\n",
            "   title_year language country       budget  imdb_score  \\\n",
            "0        2013  English     USA  100000000.0         8.2   \n",
            "1        2013  English     USA  200000000.0         7.2   \n",
            "2        2015  English     USA   44000000.0         7.9   \n",
            "3        2011  English     usa   14000000.0         6.5   \n",
            "4        2013  English     USA  225000000.0         7.9   \n",
            "\n",
            "                                              actors  movie_facebook_likes  \\\n",
            "0  Leonardo DiCaprio,Matthew McConaughey,Jon Favreau                138000   \n",
            "1          Robert Downey Jr.,Jon Favreau,Don Cheadle                 95000   \n",
            "2          Craig Stark,Jennifer Jason Leigh,Zoë Bell                114000   \n",
            "3        Matt Damon,Kieran Culkin,John Gallagher Jr.                     0   \n",
            "4              Aidan Turner,Adam Brown,James Nesbitt                 83000   \n",
            "\n",
            "     genre_1    genre_2  genre_3   genre_4  genre_5  \n",
            "0  Biography     Comedy    Crime     Drama     None  \n",
            "1     Action  Adventure   Sci-Fi      None     None  \n",
            "2      Crime      Drama  Mystery  Thriller  Western  \n",
            "3      Drama       None     None      None     None  \n",
            "4  Adventure    Fantasy     None      None     None  \n"
          ]
        }
      ]
    },
    {
      "cell_type": "code",
      "source": [
        "# Transformasi kolom 'country': menyeragamkan penggunaan huruf besar\n",
        "df['country'] = df['country'].str.upper()"
      ],
      "metadata": {
        "id": "3Guz_jTwT12u"
      },
      "execution_count": 34,
      "outputs": []
    },
    {
      "cell_type": "code",
      "source": [
        "# Transformasi kolom 'color': menyeragamkan penggunaan huruf besar\n",
        "df['color'] = df['color'].str.upper()"
      ],
      "metadata": {
        "id": "4tialnC-V3r7"
      },
      "execution_count": 35,
      "outputs": []
    },
    {
      "cell_type": "code",
      "source": [
        "nama_file_baru = 'movie_dataset_cleaned.csv'\n",
        "\n",
        "# Menyimpan DataFrame yang sudah bersih ke file CSV baru\n",
        "# index=False digunakan agar nomor baris (index) dari DataFrame tidak ikut disimpan sebagai kolom baru\n",
        "df.to_csv(nama_file_baru, index=False)\n",
        "\n",
        "print(f\"Data berhasil disimpan sebagai '{nama_file_baru}'\")"
      ],
      "metadata": {
        "colab": {
          "base_uri": "https://localhost:8080/"
        },
        "id": "o7-DDB8BXcx_",
        "outputId": "43c177c2-f9ae-41a8-b5b0-202dc4c56a39"
      },
      "execution_count": 38,
      "outputs": [
        {
          "output_type": "stream",
          "name": "stdout",
          "text": [
            "Data berhasil disimpan sebagai 'movie_dataset_cleaned.csv'\n"
          ]
        }
      ]
    }
  ]
}